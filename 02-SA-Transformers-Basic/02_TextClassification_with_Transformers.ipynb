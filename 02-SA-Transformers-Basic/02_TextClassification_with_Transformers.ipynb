{
 "cells": [
  {
   "cell_type": "markdown",
   "metadata": {
    "id": "76GWp3TtCltu"
   },
   "source": [
    "## Clasificación de textos utilizando Transformers\n",
    "\n",
    "La clasificación de textos consiste en, dado un texto, asignarle una entre varias categorías. Algunos ejemplos de esta tarea son:\n",
    "\n",
    "- dado un tweet, categorizar su connotación como positiva, negativa o neutra.\n",
    "- dado un post de Facebook, clasificarlo como portador de un lenguaje ofensivo o no.  \n",
    "\n",
    "En la actividad exploraremos cómo utilizar soluciones *out of the box* para esta tarea incluidas en la librería [Transformers](https://huggingface.co/transformers/) y su aplicación en un caso de uso típico: realizar un análisis básico del estado de opinión sobre un producto turístico a partir de los comentarios de los usuarios.\n",
    "\n",
    "\n",
    "\n",
    "**Instrucciones:**\n",
    "\n",
    "- siga las indicaciones y comentarios en cada apartado.\n",
    "\n",
    "\n",
    "**Después de esta actividad nos habremos familiarizado con:**\n",
    "- seleccionar e instanciar modelos pre-entrenados para realizar clasificación de textos.\n",
    "- cómo instanciar un *pipeline* para la clasificación de textos utilizando la librería Transformers.\n",
    "- utilizar este *pipeline* para clasificar nuevos textos.\n",
    "\n",
    "**Requerimientos**\n",
    "- python 3.6.12 - 3.8\n",
    "- tensorflow==2.3.0\n",
    "- transformers==4.1.0\n",
    "- pandas==1.1.5\n",
    "- plotly==4.13.0\n"
   ]
  },
  {
   "cell_type": "markdown",
   "metadata": {
    "id": "qs8-IuHAWhw2"
   },
   "source": [
    "## Instalación de librerías e importación de dependencias.\n",
    "\n",
    "Para comenzar, es preciso instalar las dependencias y realizar los imports necesarios.\n",
    "\n",
    "Ejecute las siguientes casillas prestando atención a las instrucciones adicionales en los comentarios."
   ]
  },
  {
   "cell_type": "code",
   "execution_count": null,
   "metadata": {
    "executionInfo": {
     "elapsed": 4024,
     "status": "ok",
     "timestamp": 1610618184750,
     "user": {
      "displayName": "JOSE IGNACIO ABREU SALAS",
      "photoUrl": "",
      "userId": "06657112918169434086"
     },
     "user_tz": -60
    },
    "id": "Lxub5L7JWiIl"
   },
   "outputs": [],
   "source": [
    "# instalar librerías. Esta casilla es últil por ejemplo si se ejecuta el cuaderno en Google Colab\n",
    "# Note que existen otras dependencias como tensorflow==2.3.0, etc. que en este caso se encontrarían ya instaladas\n",
    "%%capture\n",
    "!pip install transformers==4.1.0 pandas==1.1.5 plotly==4.13.0 \n",
    "\n",
    "print('Done!')"
   ]
  },
  {
   "cell_type": "code",
   "execution_count": null,
   "metadata": {
    "colab": {
     "base_uri": "https://localhost:8080/"
    },
    "executionInfo": {
     "elapsed": 7319,
     "status": "ok",
     "timestamp": 1610618361418,
     "user": {
      "displayName": "JOSE IGNACIO ABREU SALAS",
      "photoUrl": "",
      "userId": "06657112918169434086"
     },
     "user_tz": -60
    },
    "id": "ga7lVYFMCltv",
    "outputId": "58262aa9-d4e8-4f4c-eecb-bd2fba684459"
   },
   "outputs": [],
   "source": [
    "from transformers import TextClassificationPipeline, DistilBertTokenizer, TFDistilBertForSequenceClassification, ModelCard\n",
    "import pandas as pd\n",
    "import plotly.graph_objects as go\n",
    "from collections import Counter\n",
    "\n",
    "print('Done!')"
   ]
  },
  {
   "cell_type": "markdown",
   "metadata": {
    "id": "5cA2HwMRClty"
   },
   "source": [
    "La librería Transformers provee diferentes modelos listos para usar en la tarea de clasificación de textos. Una forma flexible de lograrlo consiste en:\n",
    "\n",
    "- seleccionar un modelo pre-entrenado adecuado para la tarea. Podemos examinar los modelos disponibles en [https://huggingface.co/models](https://huggingface.co/models). Estaremos utilizando el llamado [distilbert-base-uncased-finetuned-sst-2-english](https://huggingface.co/distilbert-base-uncased-finetuned-sst-2-english) que permite clasificar un texto en idioma inglés de acuerdo con su connotación **positiva** o **negativa**.\n",
    "\n",
    "- instanciar el modelo y su correspondiente tokenizador.\n",
    "\n",
    "- crear un pipeline para la clasificación de textos, en este caso utilizando la clase [TextClassificationPipeline](https://huggingface.co/transformers/main_classes/pipelines.html#transformers.TextClassificationPipeline).\n",
    "\n",
    "- utilizar el pipeline para clasificar textos.\n",
    "\n",
    "\n",
    "Ejecute la siguiente celda para instanciar el modelo y el correspondiente tokenizador.\n",
    "\n",
    "**Note que:**\n",
    "- la práctica recomendada al crear un nuevo modelo para Transformers es hacerlo disponible mediante un fichero que contiene los elementos necesarios para su posterior uso, como son el modelo, el tokenizador y una tarjeta con metadatos sobre el modelo. \n",
    "\n",
    "- es conveniente indagar sobre el modelo base utilizado, en este caso **DistilBert**, esto permitirá seleccionar las clases adecuadas para instanciar el modelo.\n"
   ]
  },
  {
   "cell_type": "code",
   "execution_count": null,
   "metadata": {
    "colab": {
     "base_uri": "https://localhost:8080/",
     "height": 249,
     "referenced_widgets": [
      "f7ee17c5569f43e6a80a20045c7785aa",
      "ba30ff56b86544afad15b3fccda8ffb1",
      "e1c118d0f82c47098a143c6e4e4d9923",
      "d9c69bf0deaa49cb9fd527a2e5071846",
      "31e2df284a5345ca9a599731c13aa2d3",
      "c2271fcc89db45daaa74fae152f836e2",
      "964312082b6f4856aa3216b772c29bff",
      "e405701912b64f56b95e0085d167298b",
      "b5ec4738055b46e8af07e34942af6ebf",
      "c6c9d7b9aba74c788336e69f451f6026",
      "d48cc79b0eea49ebb533f2dcc64fdb89",
      "90f41441629843d8bd7c04862dfb48e7",
      "3b3aa17fdaed48e2983ad4a594335dbd",
      "9ebcd4179a084fceb3f54d12efe68e6b",
      "2c198235b52943afbddada554938f1ff",
      "969953b9c2564522a743fe8ca8ba3bb3",
      "a237dd4b3a174eafbb2a29528793bdaf",
      "8c811acd799d464682a83ecea3089886",
      "6fe004129efa43388b3590b91afa1552",
      "2c4008dc153a4099a6569a30c0a59e78",
      "d5c076d1949645f5910feaee7dc56af4",
      "b31d153c7ded4d248beef970f15d4d13",
      "2fb4c76a33e24344b111a6232e077785",
      "9418736a484640d4a5996334c7c27dc2"
     ]
    },
    "executionInfo": {
     "elapsed": 9916,
     "status": "ok",
     "timestamp": 1610618381971,
     "user": {
      "displayName": "JOSE IGNACIO ABREU SALAS",
      "photoUrl": "",
      "userId": "06657112918169434086"
     },
     "user_tz": -60
    },
    "id": "ozSej98kCltz",
    "outputId": "56da60c2-5ad5-4b35-ce3a-6b3529eb7bda"
   },
   "outputs": [],
   "source": [
    "trained_model_name = 'distilbert-base-uncased-finetuned-sst-2-english'\n",
    "\n",
    "tokenizer = DistilBertTokenizer.from_pretrained(trained_model_name)\n",
    "model = TFDistilBertForSequenceClassification.from_pretrained(trained_model_name)\n",
    "modelcard = ModelCard.from_pretrained(trained_model_name)\n",
    "\n",
    "print('Done!')"
   ]
  },
  {
   "cell_type": "markdown",
   "metadata": {
    "id": "2zquRgvcClt1"
   },
   "source": [
    "Una vez instanciado el modelo y el tokenizador, instanciamos el pipeline de clasificación de textos. \n",
    "\n",
    "Ejecute la siguiente celda para crear una instancia de TextClassificationPipeline a partir del modelo y tokenizador."
   ]
  },
  {
   "cell_type": "code",
   "execution_count": null,
   "metadata": {
    "colab": {
     "base_uri": "https://localhost:8080/"
    },
    "executionInfo": {
     "elapsed": 562,
     "status": "ok",
     "timestamp": 1610618423159,
     "user": {
      "displayName": "JOSE IGNACIO ABREU SALAS",
      "photoUrl": "",
      "userId": "06657112918169434086"
     },
     "user_tz": -60
    },
    "id": "cnLyQIT_Clt2",
    "outputId": "d5597cfb-7991-4d3b-b76c-2a34b5d4d925"
   },
   "outputs": [],
   "source": [
    "classifier = TextClassificationPipeline(model=model, tokenizer=tokenizer, modelcard=None, framework='tf', task='sentiment-analysis', return_all_scores=False)\n",
    "\n",
    "print('Done!')"
   ]
  },
  {
   "cell_type": "markdown",
   "metadata": {
    "id": "qvWMQ9x4Clt4"
   },
   "source": [
    "Ejecute la siguiente celda para clasificar una la frase. Alternativamente, puede modificar el texto incluyendo uno de su preferencia. Recuerde que debe ser en idioma inglés."
   ]
  },
  {
   "cell_type": "code",
   "execution_count": null,
   "metadata": {
    "colab": {
     "base_uri": "https://localhost:8080/"
    },
    "executionInfo": {
     "elapsed": 589,
     "status": "ok",
     "timestamp": 1610618426696,
     "user": {
      "displayName": "JOSE IGNACIO ABREU SALAS",
      "photoUrl": "",
      "userId": "06657112918169434086"
     },
     "user_tz": -60
    },
    "id": "uZoQNW4PClt4",
    "outputId": "d252a765-e152-4d03-984c-9639118103ab"
   },
   "outputs": [],
   "source": [
    "text = \"Natural Language Processing is a very interesting subject.\"\n",
    "output = classifier(text)\n",
    "print(output)\n",
    "\n",
    "print('Done!')"
   ]
  },
  {
   "cell_type": "markdown",
   "metadata": {
    "id": "zj3fedYRClt6"
   },
   "source": [
    "### Análisis de opiniones\n",
    "\n",
    "Finalmente, utilizaremos nuestro pipeline para realizar un análisis básico del estado de opinión en una colección de tweets sobre *vacunas* (*). Para esto es necesario:\n",
    "\n",
    "- leer los datos, en este caso, disponibles en un archivo \".csv\" y obtener una lista con cada texto.\n",
    "- utilizar el pipeline para clasificar los textos\n",
    "- construir un gráfico de barras mostrando las cantidades de opiniones positivas y negativas.\n",
    "\n",
    "Ejecute la siguiente celda para leer los datos. Existen diferentes opciones, entre estas:\n",
    "\n",
    "- montar nuestra partición de Google Drive y leer un fichero desde esta.\n",
    "\n",
    "- leer los datos desde un fichero en una carpeta local.\n",
    "\n",
    "- leer los datos directamente de un URL.\n",
    "\n",
    "(*) Los datos son un subconjunto de los provistos en [SemEval 2017, Tarea 4, D](http://alt.qcri.org/semeval2017/task4/)"
   ]
  },
  {
   "cell_type": "code",
   "execution_count": null,
   "metadata": {
    "colab": {
     "base_uri": "https://localhost:8080/",
     "height": 459
    },
    "executionInfo": {
     "elapsed": 619,
     "status": "error",
     "timestamp": 1610618503226,
     "user": {
      "displayName": "JOSE IGNACIO ABREU SALAS",
      "photoUrl": "",
      "userId": "06657112918169434086"
     },
     "user_tz": -60
    },
    "id": "iNb1SPTMClt7",
    "outputId": "3c2c7e6e-560a-4470-eb96-f42b19d4a0a6"
   },
   "outputs": [],
   "source": [
    "# descomente las siguientes 3 líneas para leer datos desde Google Drive,sumiendo que se trata de un fichero llamado review.csv localizado dentro de una carpeta llamada 'Datos' en su Google Drive.\n",
    "#from google.colab import drive\n",
    "#drive.mount('/content/drive')\n",
    "#path = '/content/drive/MyDrive/Datos/sentiment-analysis-review.csv'\n",
    "\n",
    "# descomente la siguiente línea para leer los datos desde un archivo local, por ejemplo, asumiendo que se encuentra dentro de un directorio llamado sample_data\n",
    "path = './sample_data/sentiment-analysis-review.csv'\n",
    "\n",
    "# descomente la siguiente línea para leer datos desde un URL\n",
    "#path = 'https://github.com/TeachingTextMining/TextClassification/raw/main/02-SA-Transformers-Basic/sample_data/sentiment-analysis-review.csv'\n",
    "\n",
    "\n",
    "# leer los datos\n",
    "corpus = pd.read_csv(path, sep=',')\n",
    "texts = corpus['Tweet'].to_list()\n",
    "print(texts[0])\n",
    "\n",
    "print('Done!')"
   ]
  },
  {
   "cell_type": "markdown",
   "metadata": {
    "id": "PZTb-wbUClt9"
   },
   "source": [
    "Ejecute la siguiente celda para clasificar los textos. Tenga en cuenta que, en dependencia del entorno de ejecución, la cantidad de textos y su longitud, la ejecución puede tardar varios minutos o requerir una cantidad de memoria no disponible."
   ]
  },
  {
   "cell_type": "code",
   "execution_count": null,
   "metadata": {
    "id": "4nlsy-9IClt-"
   },
   "outputs": [],
   "source": [
    "opinions = classifier(texts)\n",
    "print(opinions[0])"
   ]
  },
  {
   "cell_type": "markdown",
   "metadata": {
    "id": "eJ-prEu5CluA"
   },
   "source": [
    "Ejecute la siguiente celda para obtener algunas estadísticas básicas sobre los resultados."
   ]
  },
  {
   "cell_type": "code",
   "execution_count": null,
   "metadata": {
    "id": "H51QIaAnCluA"
   },
   "outputs": [],
   "source": [
    "pred_opinions = [opinion['label'] for opinion in opinions]\n",
    "\n",
    "# obtener algunas estadísticas sobre la predicción en el conjunto de pruebas\n",
    "categories = ['POSITIVE', 'NEGATIVE']\n",
    "hist = Counter(pred_opinions) \n",
    "\n",
    "colors = ['red', 'orange', 'yellow', 'lightgreen', 'darkgreen']\n",
    "fig = go.Figure(layout=go.Layout(height=400, width=600))\n",
    "fig.add_trace(go.Bar(x=categories, y=[hist[cat] for cat in sorted(hist.keys())], marker_color=colors))\n",
    "fig.show()\n",
    "\n",
    "print('Done!')"
   ]
  },
  {
   "cell_type": "code",
   "execution_count": null,
   "metadata": {
    "id": "5l91SSWemQoP"
   },
   "outputs": [],
   "source": []
  }
 ],
 "metadata": {
  "colab": {
   "collapsed_sections": [],
   "name": "00_TextClassification_with_Transformers.ipynb",
   "provenance": []
  },
  "kernelspec": {
   "display_name": "Python 3",
   "language": "python",
   "name": "python3"
  },
  "language_info": {
   "codemirror_mode": {
    "name": "ipython",
    "version": 3
   },
   "file_extension": ".py",
   "mimetype": "text/x-python",
   "name": "python",
   "nbconvert_exporter": "python",
   "pygments_lexer": "ipython3",
   "version": "3.6.9"
  },
  "widgets": {
   "application/vnd.jupyter.widget-state+json": {
    "2c198235b52943afbddada554938f1ff": {
     "model_module": "@jupyter-widgets/controls",
     "model_name": "DescriptionStyleModel",
     "state": {
      "_model_module": "@jupyter-widgets/controls",
      "_model_module_version": "1.5.0",
      "_model_name": "DescriptionStyleModel",
      "_view_count": null,
      "_view_module": "@jupyter-widgets/base",
      "_view_module_version": "1.2.0",
      "_view_name": "StyleView",
      "description_width": ""
     }
    },
    "2c4008dc153a4099a6569a30c0a59e78": {
     "model_module": "@jupyter-widgets/controls",
     "model_name": "HTMLModel",
     "state": {
      "_dom_classes": [],
      "_model_module": "@jupyter-widgets/controls",
      "_model_module_version": "1.5.0",
      "_model_name": "HTMLModel",
      "_view_count": null,
      "_view_module": "@jupyter-widgets/controls",
      "_view_module_version": "1.5.0",
      "_view_name": "HTMLView",
      "description": "",
      "description_tooltip": null,
      "layout": "IPY_MODEL_9418736a484640d4a5996334c7c27dc2",
      "placeholder": "​",
      "style": "IPY_MODEL_2fb4c76a33e24344b111a6232e077785",
      "value": " 268M/268M [00:05&lt;00:00, 51.6MB/s]"
     }
    },
    "2fb4c76a33e24344b111a6232e077785": {
     "model_module": "@jupyter-widgets/controls",
     "model_name": "DescriptionStyleModel",
     "state": {
      "_model_module": "@jupyter-widgets/controls",
      "_model_module_version": "1.5.0",
      "_model_name": "DescriptionStyleModel",
      "_view_count": null,
      "_view_module": "@jupyter-widgets/base",
      "_view_module_version": "1.2.0",
      "_view_name": "StyleView",
      "description_width": ""
     }
    },
    "31e2df284a5345ca9a599731c13aa2d3": {
     "model_module": "@jupyter-widgets/controls",
     "model_name": "ProgressStyleModel",
     "state": {
      "_model_module": "@jupyter-widgets/controls",
      "_model_module_version": "1.5.0",
      "_model_name": "ProgressStyleModel",
      "_view_count": null,
      "_view_module": "@jupyter-widgets/base",
      "_view_module_version": "1.2.0",
      "_view_name": "StyleView",
      "bar_color": null,
      "description_width": "initial"
     }
    },
    "3b3aa17fdaed48e2983ad4a594335dbd": {
     "model_module": "@jupyter-widgets/controls",
     "model_name": "ProgressStyleModel",
     "state": {
      "_model_module": "@jupyter-widgets/controls",
      "_model_module_version": "1.5.0",
      "_model_name": "ProgressStyleModel",
      "_view_count": null,
      "_view_module": "@jupyter-widgets/base",
      "_view_module_version": "1.2.0",
      "_view_name": "StyleView",
      "bar_color": null,
      "description_width": "initial"
     }
    },
    "6fe004129efa43388b3590b91afa1552": {
     "model_module": "@jupyter-widgets/controls",
     "model_name": "FloatProgressModel",
     "state": {
      "_dom_classes": [],
      "_model_module": "@jupyter-widgets/controls",
      "_model_module_version": "1.5.0",
      "_model_name": "FloatProgressModel",
      "_view_count": null,
      "_view_module": "@jupyter-widgets/controls",
      "_view_module_version": "1.5.0",
      "_view_name": "ProgressView",
      "bar_style": "success",
      "description": "Downloading: 100%",
      "description_tooltip": null,
      "layout": "IPY_MODEL_b31d153c7ded4d248beef970f15d4d13",
      "max": 267949840,
      "min": 0,
      "orientation": "horizontal",
      "style": "IPY_MODEL_d5c076d1949645f5910feaee7dc56af4",
      "value": 267949840
     }
    },
    "8c811acd799d464682a83ecea3089886": {
     "model_module": "@jupyter-widgets/base",
     "model_name": "LayoutModel",
     "state": {
      "_model_module": "@jupyter-widgets/base",
      "_model_module_version": "1.2.0",
      "_model_name": "LayoutModel",
      "_view_count": null,
      "_view_module": "@jupyter-widgets/base",
      "_view_module_version": "1.2.0",
      "_view_name": "LayoutView",
      "align_content": null,
      "align_items": null,
      "align_self": null,
      "border": null,
      "bottom": null,
      "display": null,
      "flex": null,
      "flex_flow": null,
      "grid_area": null,
      "grid_auto_columns": null,
      "grid_auto_flow": null,
      "grid_auto_rows": null,
      "grid_column": null,
      "grid_gap": null,
      "grid_row": null,
      "grid_template_areas": null,
      "grid_template_columns": null,
      "grid_template_rows": null,
      "height": null,
      "justify_content": null,
      "justify_items": null,
      "left": null,
      "margin": null,
      "max_height": null,
      "max_width": null,
      "min_height": null,
      "min_width": null,
      "object_fit": null,
      "object_position": null,
      "order": null,
      "overflow": null,
      "overflow_x": null,
      "overflow_y": null,
      "padding": null,
      "right": null,
      "top": null,
      "visibility": null,
      "width": null
     }
    },
    "90f41441629843d8bd7c04862dfb48e7": {
     "model_module": "@jupyter-widgets/controls",
     "model_name": "HTMLModel",
     "state": {
      "_dom_classes": [],
      "_model_module": "@jupyter-widgets/controls",
      "_model_module_version": "1.5.0",
      "_model_name": "HTMLModel",
      "_view_count": null,
      "_view_module": "@jupyter-widgets/controls",
      "_view_module_version": "1.5.0",
      "_view_name": "HTMLView",
      "description": "",
      "description_tooltip": null,
      "layout": "IPY_MODEL_969953b9c2564522a743fe8ca8ba3bb3",
      "placeholder": "​",
      "style": "IPY_MODEL_2c198235b52943afbddada554938f1ff",
      "value": " 629/629 [00:00&lt;00:00, 1.18kB/s]"
     }
    },
    "9418736a484640d4a5996334c7c27dc2": {
     "model_module": "@jupyter-widgets/base",
     "model_name": "LayoutModel",
     "state": {
      "_model_module": "@jupyter-widgets/base",
      "_model_module_version": "1.2.0",
      "_model_name": "LayoutModel",
      "_view_count": null,
      "_view_module": "@jupyter-widgets/base",
      "_view_module_version": "1.2.0",
      "_view_name": "LayoutView",
      "align_content": null,
      "align_items": null,
      "align_self": null,
      "border": null,
      "bottom": null,
      "display": null,
      "flex": null,
      "flex_flow": null,
      "grid_area": null,
      "grid_auto_columns": null,
      "grid_auto_flow": null,
      "grid_auto_rows": null,
      "grid_column": null,
      "grid_gap": null,
      "grid_row": null,
      "grid_template_areas": null,
      "grid_template_columns": null,
      "grid_template_rows": null,
      "height": null,
      "justify_content": null,
      "justify_items": null,
      "left": null,
      "margin": null,
      "max_height": null,
      "max_width": null,
      "min_height": null,
      "min_width": null,
      "object_fit": null,
      "object_position": null,
      "order": null,
      "overflow": null,
      "overflow_x": null,
      "overflow_y": null,
      "padding": null,
      "right": null,
      "top": null,
      "visibility": null,
      "width": null
     }
    },
    "964312082b6f4856aa3216b772c29bff": {
     "model_module": "@jupyter-widgets/controls",
     "model_name": "DescriptionStyleModel",
     "state": {
      "_model_module": "@jupyter-widgets/controls",
      "_model_module_version": "1.5.0",
      "_model_name": "DescriptionStyleModel",
      "_view_count": null,
      "_view_module": "@jupyter-widgets/base",
      "_view_module_version": "1.2.0",
      "_view_name": "StyleView",
      "description_width": ""
     }
    },
    "969953b9c2564522a743fe8ca8ba3bb3": {
     "model_module": "@jupyter-widgets/base",
     "model_name": "LayoutModel",
     "state": {
      "_model_module": "@jupyter-widgets/base",
      "_model_module_version": "1.2.0",
      "_model_name": "LayoutModel",
      "_view_count": null,
      "_view_module": "@jupyter-widgets/base",
      "_view_module_version": "1.2.0",
      "_view_name": "LayoutView",
      "align_content": null,
      "align_items": null,
      "align_self": null,
      "border": null,
      "bottom": null,
      "display": null,
      "flex": null,
      "flex_flow": null,
      "grid_area": null,
      "grid_auto_columns": null,
      "grid_auto_flow": null,
      "grid_auto_rows": null,
      "grid_column": null,
      "grid_gap": null,
      "grid_row": null,
      "grid_template_areas": null,
      "grid_template_columns": null,
      "grid_template_rows": null,
      "height": null,
      "justify_content": null,
      "justify_items": null,
      "left": null,
      "margin": null,
      "max_height": null,
      "max_width": null,
      "min_height": null,
      "min_width": null,
      "object_fit": null,
      "object_position": null,
      "order": null,
      "overflow": null,
      "overflow_x": null,
      "overflow_y": null,
      "padding": null,
      "right": null,
      "top": null,
      "visibility": null,
      "width": null
     }
    },
    "9ebcd4179a084fceb3f54d12efe68e6b": {
     "model_module": "@jupyter-widgets/base",
     "model_name": "LayoutModel",
     "state": {
      "_model_module": "@jupyter-widgets/base",
      "_model_module_version": "1.2.0",
      "_model_name": "LayoutModel",
      "_view_count": null,
      "_view_module": "@jupyter-widgets/base",
      "_view_module_version": "1.2.0",
      "_view_name": "LayoutView",
      "align_content": null,
      "align_items": null,
      "align_self": null,
      "border": null,
      "bottom": null,
      "display": null,
      "flex": null,
      "flex_flow": null,
      "grid_area": null,
      "grid_auto_columns": null,
      "grid_auto_flow": null,
      "grid_auto_rows": null,
      "grid_column": null,
      "grid_gap": null,
      "grid_row": null,
      "grid_template_areas": null,
      "grid_template_columns": null,
      "grid_template_rows": null,
      "height": null,
      "justify_content": null,
      "justify_items": null,
      "left": null,
      "margin": null,
      "max_height": null,
      "max_width": null,
      "min_height": null,
      "min_width": null,
      "object_fit": null,
      "object_position": null,
      "order": null,
      "overflow": null,
      "overflow_x": null,
      "overflow_y": null,
      "padding": null,
      "right": null,
      "top": null,
      "visibility": null,
      "width": null
     }
    },
    "a237dd4b3a174eafbb2a29528793bdaf": {
     "model_module": "@jupyter-widgets/controls",
     "model_name": "HBoxModel",
     "state": {
      "_dom_classes": [],
      "_model_module": "@jupyter-widgets/controls",
      "_model_module_version": "1.5.0",
      "_model_name": "HBoxModel",
      "_view_count": null,
      "_view_module": "@jupyter-widgets/controls",
      "_view_module_version": "1.5.0",
      "_view_name": "HBoxView",
      "box_style": "",
      "children": [
       "IPY_MODEL_6fe004129efa43388b3590b91afa1552",
       "IPY_MODEL_2c4008dc153a4099a6569a30c0a59e78"
      ],
      "layout": "IPY_MODEL_8c811acd799d464682a83ecea3089886"
     }
    },
    "b31d153c7ded4d248beef970f15d4d13": {
     "model_module": "@jupyter-widgets/base",
     "model_name": "LayoutModel",
     "state": {
      "_model_module": "@jupyter-widgets/base",
      "_model_module_version": "1.2.0",
      "_model_name": "LayoutModel",
      "_view_count": null,
      "_view_module": "@jupyter-widgets/base",
      "_view_module_version": "1.2.0",
      "_view_name": "LayoutView",
      "align_content": null,
      "align_items": null,
      "align_self": null,
      "border": null,
      "bottom": null,
      "display": null,
      "flex": null,
      "flex_flow": null,
      "grid_area": null,
      "grid_auto_columns": null,
      "grid_auto_flow": null,
      "grid_auto_rows": null,
      "grid_column": null,
      "grid_gap": null,
      "grid_row": null,
      "grid_template_areas": null,
      "grid_template_columns": null,
      "grid_template_rows": null,
      "height": null,
      "justify_content": null,
      "justify_items": null,
      "left": null,
      "margin": null,
      "max_height": null,
      "max_width": null,
      "min_height": null,
      "min_width": null,
      "object_fit": null,
      "object_position": null,
      "order": null,
      "overflow": null,
      "overflow_x": null,
      "overflow_y": null,
      "padding": null,
      "right": null,
      "top": null,
      "visibility": null,
      "width": null
     }
    },
    "b5ec4738055b46e8af07e34942af6ebf": {
     "model_module": "@jupyter-widgets/controls",
     "model_name": "HBoxModel",
     "state": {
      "_dom_classes": [],
      "_model_module": "@jupyter-widgets/controls",
      "_model_module_version": "1.5.0",
      "_model_name": "HBoxModel",
      "_view_count": null,
      "_view_module": "@jupyter-widgets/controls",
      "_view_module_version": "1.5.0",
      "_view_name": "HBoxView",
      "box_style": "",
      "children": [
       "IPY_MODEL_d48cc79b0eea49ebb533f2dcc64fdb89",
       "IPY_MODEL_90f41441629843d8bd7c04862dfb48e7"
      ],
      "layout": "IPY_MODEL_c6c9d7b9aba74c788336e69f451f6026"
     }
    },
    "ba30ff56b86544afad15b3fccda8ffb1": {
     "model_module": "@jupyter-widgets/base",
     "model_name": "LayoutModel",
     "state": {
      "_model_module": "@jupyter-widgets/base",
      "_model_module_version": "1.2.0",
      "_model_name": "LayoutModel",
      "_view_count": null,
      "_view_module": "@jupyter-widgets/base",
      "_view_module_version": "1.2.0",
      "_view_name": "LayoutView",
      "align_content": null,
      "align_items": null,
      "align_self": null,
      "border": null,
      "bottom": null,
      "display": null,
      "flex": null,
      "flex_flow": null,
      "grid_area": null,
      "grid_auto_columns": null,
      "grid_auto_flow": null,
      "grid_auto_rows": null,
      "grid_column": null,
      "grid_gap": null,
      "grid_row": null,
      "grid_template_areas": null,
      "grid_template_columns": null,
      "grid_template_rows": null,
      "height": null,
      "justify_content": null,
      "justify_items": null,
      "left": null,
      "margin": null,
      "max_height": null,
      "max_width": null,
      "min_height": null,
      "min_width": null,
      "object_fit": null,
      "object_position": null,
      "order": null,
      "overflow": null,
      "overflow_x": null,
      "overflow_y": null,
      "padding": null,
      "right": null,
      "top": null,
      "visibility": null,
      "width": null
     }
    },
    "c2271fcc89db45daaa74fae152f836e2": {
     "model_module": "@jupyter-widgets/base",
     "model_name": "LayoutModel",
     "state": {
      "_model_module": "@jupyter-widgets/base",
      "_model_module_version": "1.2.0",
      "_model_name": "LayoutModel",
      "_view_count": null,
      "_view_module": "@jupyter-widgets/base",
      "_view_module_version": "1.2.0",
      "_view_name": "LayoutView",
      "align_content": null,
      "align_items": null,
      "align_self": null,
      "border": null,
      "bottom": null,
      "display": null,
      "flex": null,
      "flex_flow": null,
      "grid_area": null,
      "grid_auto_columns": null,
      "grid_auto_flow": null,
      "grid_auto_rows": null,
      "grid_column": null,
      "grid_gap": null,
      "grid_row": null,
      "grid_template_areas": null,
      "grid_template_columns": null,
      "grid_template_rows": null,
      "height": null,
      "justify_content": null,
      "justify_items": null,
      "left": null,
      "margin": null,
      "max_height": null,
      "max_width": null,
      "min_height": null,
      "min_width": null,
      "object_fit": null,
      "object_position": null,
      "order": null,
      "overflow": null,
      "overflow_x": null,
      "overflow_y": null,
      "padding": null,
      "right": null,
      "top": null,
      "visibility": null,
      "width": null
     }
    },
    "c6c9d7b9aba74c788336e69f451f6026": {
     "model_module": "@jupyter-widgets/base",
     "model_name": "LayoutModel",
     "state": {
      "_model_module": "@jupyter-widgets/base",
      "_model_module_version": "1.2.0",
      "_model_name": "LayoutModel",
      "_view_count": null,
      "_view_module": "@jupyter-widgets/base",
      "_view_module_version": "1.2.0",
      "_view_name": "LayoutView",
      "align_content": null,
      "align_items": null,
      "align_self": null,
      "border": null,
      "bottom": null,
      "display": null,
      "flex": null,
      "flex_flow": null,
      "grid_area": null,
      "grid_auto_columns": null,
      "grid_auto_flow": null,
      "grid_auto_rows": null,
      "grid_column": null,
      "grid_gap": null,
      "grid_row": null,
      "grid_template_areas": null,
      "grid_template_columns": null,
      "grid_template_rows": null,
      "height": null,
      "justify_content": null,
      "justify_items": null,
      "left": null,
      "margin": null,
      "max_height": null,
      "max_width": null,
      "min_height": null,
      "min_width": null,
      "object_fit": null,
      "object_position": null,
      "order": null,
      "overflow": null,
      "overflow_x": null,
      "overflow_y": null,
      "padding": null,
      "right": null,
      "top": null,
      "visibility": null,
      "width": null
     }
    },
    "d48cc79b0eea49ebb533f2dcc64fdb89": {
     "model_module": "@jupyter-widgets/controls",
     "model_name": "FloatProgressModel",
     "state": {
      "_dom_classes": [],
      "_model_module": "@jupyter-widgets/controls",
      "_model_module_version": "1.5.0",
      "_model_name": "FloatProgressModel",
      "_view_count": null,
      "_view_module": "@jupyter-widgets/controls",
      "_view_module_version": "1.5.0",
      "_view_name": "ProgressView",
      "bar_style": "success",
      "description": "Downloading: 100%",
      "description_tooltip": null,
      "layout": "IPY_MODEL_9ebcd4179a084fceb3f54d12efe68e6b",
      "max": 629,
      "min": 0,
      "orientation": "horizontal",
      "style": "IPY_MODEL_3b3aa17fdaed48e2983ad4a594335dbd",
      "value": 629
     }
    },
    "d5c076d1949645f5910feaee7dc56af4": {
     "model_module": "@jupyter-widgets/controls",
     "model_name": "ProgressStyleModel",
     "state": {
      "_model_module": "@jupyter-widgets/controls",
      "_model_module_version": "1.5.0",
      "_model_name": "ProgressStyleModel",
      "_view_count": null,
      "_view_module": "@jupyter-widgets/base",
      "_view_module_version": "1.2.0",
      "_view_name": "StyleView",
      "bar_color": null,
      "description_width": "initial"
     }
    },
    "d9c69bf0deaa49cb9fd527a2e5071846": {
     "model_module": "@jupyter-widgets/controls",
     "model_name": "HTMLModel",
     "state": {
      "_dom_classes": [],
      "_model_module": "@jupyter-widgets/controls",
      "_model_module_version": "1.5.0",
      "_model_name": "HTMLModel",
      "_view_count": null,
      "_view_module": "@jupyter-widgets/controls",
      "_view_module_version": "1.5.0",
      "_view_name": "HTMLView",
      "description": "",
      "description_tooltip": null,
      "layout": "IPY_MODEL_e405701912b64f56b95e0085d167298b",
      "placeholder": "​",
      "style": "IPY_MODEL_964312082b6f4856aa3216b772c29bff",
      "value": " 232k/232k [00:00&lt;00:00, 682kB/s]"
     }
    },
    "e1c118d0f82c47098a143c6e4e4d9923": {
     "model_module": "@jupyter-widgets/controls",
     "model_name": "FloatProgressModel",
     "state": {
      "_dom_classes": [],
      "_model_module": "@jupyter-widgets/controls",
      "_model_module_version": "1.5.0",
      "_model_name": "FloatProgressModel",
      "_view_count": null,
      "_view_module": "@jupyter-widgets/controls",
      "_view_module_version": "1.5.0",
      "_view_name": "ProgressView",
      "bar_style": "success",
      "description": "Downloading: 100%",
      "description_tooltip": null,
      "layout": "IPY_MODEL_c2271fcc89db45daaa74fae152f836e2",
      "max": 231508,
      "min": 0,
      "orientation": "horizontal",
      "style": "IPY_MODEL_31e2df284a5345ca9a599731c13aa2d3",
      "value": 231508
     }
    },
    "e405701912b64f56b95e0085d167298b": {
     "model_module": "@jupyter-widgets/base",
     "model_name": "LayoutModel",
     "state": {
      "_model_module": "@jupyter-widgets/base",
      "_model_module_version": "1.2.0",
      "_model_name": "LayoutModel",
      "_view_count": null,
      "_view_module": "@jupyter-widgets/base",
      "_view_module_version": "1.2.0",
      "_view_name": "LayoutView",
      "align_content": null,
      "align_items": null,
      "align_self": null,
      "border": null,
      "bottom": null,
      "display": null,
      "flex": null,
      "flex_flow": null,
      "grid_area": null,
      "grid_auto_columns": null,
      "grid_auto_flow": null,
      "grid_auto_rows": null,
      "grid_column": null,
      "grid_gap": null,
      "grid_row": null,
      "grid_template_areas": null,
      "grid_template_columns": null,
      "grid_template_rows": null,
      "height": null,
      "justify_content": null,
      "justify_items": null,
      "left": null,
      "margin": null,
      "max_height": null,
      "max_width": null,
      "min_height": null,
      "min_width": null,
      "object_fit": null,
      "object_position": null,
      "order": null,
      "overflow": null,
      "overflow_x": null,
      "overflow_y": null,
      "padding": null,
      "right": null,
      "top": null,
      "visibility": null,
      "width": null
     }
    },
    "f7ee17c5569f43e6a80a20045c7785aa": {
     "model_module": "@jupyter-widgets/controls",
     "model_name": "HBoxModel",
     "state": {
      "_dom_classes": [],
      "_model_module": "@jupyter-widgets/controls",
      "_model_module_version": "1.5.0",
      "_model_name": "HBoxModel",
      "_view_count": null,
      "_view_module": "@jupyter-widgets/controls",
      "_view_module_version": "1.5.0",
      "_view_name": "HBoxView",
      "box_style": "",
      "children": [
       "IPY_MODEL_e1c118d0f82c47098a143c6e4e4d9923",
       "IPY_MODEL_d9c69bf0deaa49cb9fd527a2e5071846"
      ],
      "layout": "IPY_MODEL_ba30ff56b86544afad15b3fccda8ffb1"
     }
    }
   }
  }
 },
 "nbformat": 4,
 "nbformat_minor": 1
}
